{
 "cells": [
  {
   "cell_type": "code",
   "execution_count": 2,
   "id": "7d508d49",
   "metadata": {},
   "outputs": [
    {
     "name": "stdout",
     "output_type": "stream",
     "text": [
      "Database Successfully Connected to SQLite\n",
      "SQLite Database Version is:  [('3.38.2',)]\n"
     ]
    }
   ],
   "source": [
    "# manage connection to the database\n",
    "\n",
    "import sqlite3\n",
    "\n",
    "class db_connection:\n",
    "    \n",
    "    conn = \"\"\n",
    "    \n",
    "    def __init__(self):\n",
    "        pass\n",
    "    \n",
    "    def create_connection(self):\n",
    "        try:\n",
    "            conn = sqlite3.connect(\"db.db\", timeout=30)\n",
    "            print(\"Database Successfully Connected to SQLite\")\n",
    "        except Error as e:\n",
    "            print(e)\n",
    "        \n",
    "        return conn\n",
    "    \n",
    "    def check_version(self, conn):\n",
    "        cursor = conn.cursor()\n",
    "        sqlite_select_Query = \"select sqlite_version();\"\n",
    "        cursor.execute(sqlite_select_Query)\n",
    "        record = cursor.fetchall()\n",
    "        print(\"SQLite Database Version is: \", record)\n",
    "        cursor.close()\n",
    "        \n",
    "    def login(self, conn, email, password):\n",
    "        pass\n",
    "        \n",
    "    def register(self, conn, f_name, l_name, email, password):\n",
    "        \"\"\"\n",
    "        f_name = input(\"First Name : \")\n",
    "        l_name = input(\"Last Name : \")\n",
    "        email = input(\"Email : \")\n",
    "        password = input(\"Password : \")\n",
    "        \"\"\"\n",
    "        #Creating a cursor object using the cursor() method\n",
    "        cursor = conn.cursor()\n",
    "        # Preparing SQL queries to select a record from the database.\n",
    "        query = \"\"\"INSERT INTO users_personal_info(f_name, l_name, email, password) VALUES (? , ? , ? ,?)\"\"\"\n",
    "        data_tuple = (f_name, l_name, email, password)\n",
    "        cursor.execute(query, data_tuple)\n",
    "        conn.commit()\n",
    "                \n",
    "        conn.close()\n",
    "            \n",
    "obj = db_connection()\n",
    "conn = obj.create_connection()\n",
    "obj.check_version(conn)\n",
    "#obj.register(conn, \"f\", \"l\", \"emal\", \"pass\")\n",
    "    \n",
    "        \n",
    "    \n",
    "    \n",
    "    \n"
   ]
  },
  {
   "cell_type": "code",
   "execution_count": null,
   "id": "cfd0db2d",
   "metadata": {},
   "outputs": [],
   "source": []
  }
 ],
 "metadata": {
  "kernelspec": {
   "display_name": "Python 3 (ipykernel)",
   "language": "python",
   "name": "python3"
  },
  "language_info": {
   "codemirror_mode": {
    "name": "ipython",
    "version": 3
   },
   "file_extension": ".py",
   "mimetype": "text/x-python",
   "name": "python",
   "nbconvert_exporter": "python",
   "pygments_lexer": "ipython3",
   "version": "3.9.12"
  }
 },
 "nbformat": 4,
 "nbformat_minor": 5
}
